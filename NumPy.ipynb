{
 "cells": [
  {
   "cell_type": "code",
   "execution_count": 1,
   "id": "36c15881-7d71-492e-9ac7-7a8920381815",
   "metadata": {},
   "outputs": [
    {
     "data": {
      "text/plain": [
       "array([[0., 0.]])"
      ]
     },
     "execution_count": 1,
     "metadata": {},
     "output_type": "execute_result"
    }
   ],
   "source": [
    "#playing with NumPy\n",
    "\n",
    "import numpy as np\n",
    "\n",
    "n1 = np.zeros((1,2))\n",
    "n1"
   ]
  },
  {
   "cell_type": "code",
   "execution_count": 2,
   "id": "3d9a2273-51b3-4e04-a0e6-9935791be12d",
   "metadata": {},
   "outputs": [
    {
     "data": {
      "text/plain": [
       "array([[0., 0., 0., 0.],\n",
       "       [0., 0., 0., 0.],\n",
       "       [0., 0., 0., 0.],\n",
       "       [0., 0., 0., 0.]])"
      ]
     },
     "execution_count": 2,
     "metadata": {},
     "output_type": "execute_result"
    }
   ],
   "source": [
    "n2 = np.zeros((4,4))\n",
    "n2"
   ]
  },
  {
   "cell_type": "code",
   "execution_count": 3,
   "id": "f626091b-4dd5-4852-b01b-8372dee26f6a",
   "metadata": {},
   "outputs": [
    {
     "data": {
      "text/plain": [
       "array([[45, 45],\n",
       "       [45, 45]])"
      ]
     },
     "execution_count": 3,
     "metadata": {},
     "output_type": "execute_result"
    }
   ],
   "source": [
    "n3 = np.full((2,2),45)\n",
    "n3"
   ]
  },
  {
   "cell_type": "code",
   "execution_count": 4,
   "id": "e238ba0b-a3d6-48cd-99cf-f3d42980287a",
   "metadata": {},
   "outputs": [
    {
     "data": {
      "text/plain": [
       "array([10, 11, 12, 13, 14, 15, 16, 17, 18, 19])"
      ]
     },
     "execution_count": 4,
     "metadata": {},
     "output_type": "execute_result"
    }
   ],
   "source": [
    "n4 = np.arange(10,20)\n",
    "n4"
   ]
  },
  {
   "cell_type": "code",
   "execution_count": 9,
   "id": "7c0be572-88af-43a4-8026-8799bdcf0925",
   "metadata": {},
   "outputs": [
    {
     "data": {
      "text/plain": [
       "array([10, 15, 20, 25, 30, 35, 40, 45])"
      ]
     },
     "execution_count": 9,
     "metadata": {},
     "output_type": "execute_result"
    }
   ],
   "source": [
    "n5 = np.arange(10,50,5)\n",
    "n5"
   ]
  },
  {
   "cell_type": "code",
   "execution_count": 10,
   "id": "a55e20cc-c80d-47a5-861e-10836b400390",
   "metadata": {},
   "outputs": [],
   "source": [
    "import random"
   ]
  },
  {
   "cell_type": "code",
   "execution_count": 14,
   "id": "7ffc1a31-52a6-40a4-8ad3-1a671ccf6ae0",
   "metadata": {},
   "outputs": [
    {
     "data": {
      "text/plain": [
       "array([26, 77, 37, 71, 34])"
      ]
     },
     "execution_count": 14,
     "metadata": {},
     "output_type": "execute_result"
    }
   ],
   "source": [
    "n6 = np.random.randint(1,100,5)\n",
    "n6"
   ]
  },
  {
   "cell_type": "code",
   "execution_count": 17,
   "id": "be52a23c-7352-4145-8104-6c508d05fb03",
   "metadata": {},
   "outputs": [
    {
     "data": {
      "text/plain": [
       "(5,)"
      ]
     },
     "execution_count": 17,
     "metadata": {},
     "output_type": "execute_result"
    }
   ],
   "source": [
    "n6.shape\n"
   ]
  },
  {
   "cell_type": "code",
   "execution_count": 18,
   "id": "1015b315-79ff-4e69-98fe-06d7cb895aea",
   "metadata": {},
   "outputs": [
    {
     "data": {
      "text/plain": [
       "array([[1, 2, 3],\n",
       "       [4, 5, 6]])"
      ]
     },
     "execution_count": 18,
     "metadata": {},
     "output_type": "execute_result"
    }
   ],
   "source": [
    "n7 = np.array([[1,2,3],[4,5,6]])\n",
    "n7"
   ]
  },
  {
   "cell_type": "code",
   "execution_count": 19,
   "id": "6d2d4ada-94e6-43c9-a4a9-cf34937b961b",
   "metadata": {},
   "outputs": [
    {
     "data": {
      "text/plain": [
       "(2, 3)"
      ]
     },
     "execution_count": 19,
     "metadata": {},
     "output_type": "execute_result"
    }
   ],
   "source": [
    "n7.shape"
   ]
  },
  {
   "cell_type": "code",
   "execution_count": 20,
   "id": "dd0118f9-f4a1-4a44-891f-fad7b534cb91",
   "metadata": {},
   "outputs": [
    {
     "data": {
      "text/plain": [
       "array([[1, 2],\n",
       "       [3, 4],\n",
       "       [5, 6]])"
      ]
     },
     "execution_count": 20,
     "metadata": {},
     "output_type": "execute_result"
    }
   ],
   "source": [
    "n7.shape = (3,2)\n",
    "n7"
   ]
  },
  {
   "cell_type": "code",
   "execution_count": 26,
   "id": "19a94aff-3a9d-4f79-87ca-ff935306ed82",
   "metadata": {},
   "outputs": [
    {
     "data": {
      "text/plain": [
       "array([[ 1,  2,  3,  5,  6],\n",
       "       [12,  2, 23, 34, 45]])"
      ]
     },
     "execution_count": 26,
     "metadata": {},
     "output_type": "execute_result"
    }
   ],
   "source": [
    "n8 = np.array([1,2,3,5,6])\n",
    "n9 = np.array([12,2,23,34,45])\n",
    "n10 = np.vstack((n8,n9)) # vertical stacking\n",
    "n10"
   ]
  },
  {
   "cell_type": "code",
   "execution_count": 22,
   "id": "2136e7af-bcc4-43e3-b9d9-c1d524b2c82f",
   "metadata": {},
   "outputs": [
    {
     "data": {
      "text/plain": [
       "array([ 1,  2,  3,  5,  6, 12, 23, 23, 34, 45])"
      ]
     },
     "execution_count": 22,
     "metadata": {},
     "output_type": "execute_result"
    }
   ],
   "source": [
    "n11 = np.hstack((n8,n9)) #horizontal stacking\n",
    "n11"
   ]
  },
  {
   "cell_type": "code",
   "execution_count": 23,
   "id": "0d4df5a1-cd39-418f-8a41-5591ac775379",
   "metadata": {},
   "outputs": [
    {
     "data": {
      "text/plain": [
       "array([[ 1, 12],\n",
       "       [ 2, 23],\n",
       "       [ 3, 23],\n",
       "       [ 5, 34],\n",
       "       [ 6, 45]])"
      ]
     },
     "execution_count": 23,
     "metadata": {},
     "output_type": "execute_result"
    }
   ],
   "source": [
    "n12 = np.column_stack((n8,n9)) # column wise stacking\n",
    "n12"
   ]
  },
  {
   "cell_type": "code",
   "execution_count": 25,
   "id": "d546692a-036d-47c6-9c08-2f08055e7729",
   "metadata": {},
   "outputs": [
    {
     "name": "stdout",
     "output_type": "stream",
     "text": [
      "[ 1 12]\n",
      "[ 2 23]\n",
      "[ 3 23]\n",
      "[ 5 34]\n",
      "[ 6 45]\n"
     ]
    }
   ],
   "source": [
    "for i in n12:\n",
    "    print(i)"
   ]
  },
  {
   "cell_type": "code",
   "execution_count": 31,
   "id": "948e37a0-5706-4fdc-89ca-5ec922f49cfb",
   "metadata": {},
   "outputs": [
    {
     "data": {
      "text/plain": [
       "array([2])"
      ]
     },
     "execution_count": 31,
     "metadata": {},
     "output_type": "execute_result"
    }
   ],
   "source": [
    "np.intersect1d(n8,n9) #it gives common element from both elements"
   ]
  },
  {
   "cell_type": "code",
   "execution_count": 30,
   "id": "a9cd5bf1-981f-42ad-9345-098771be1a1d",
   "metadata": {},
   "outputs": [
    {
     "data": {
      "text/plain": [
       "array([1, 3, 5, 6])"
      ]
     },
     "execution_count": 30,
     "metadata": {},
     "output_type": "execute_result"
    }
   ],
   "source": [
    "np.setdiff1d(n8,n9) #it will return the elements which are only present in first array by compairing with the other given array"
   ]
  },
  {
   "cell_type": "code",
   "execution_count": 32,
   "id": "3239198f-4d84-437f-809d-863e52fcca09",
   "metadata": {},
   "outputs": [
    {
     "data": {
      "text/plain": [
       "array([12, 23, 34, 45])"
      ]
     },
     "execution_count": 32,
     "metadata": {},
     "output_type": "execute_result"
    }
   ],
   "source": [
    "np.setdiff1d(n9,n8)"
   ]
  },
  {
   "cell_type": "code",
   "execution_count": 34,
   "id": "5091c0ac-3e46-410b-a62e-9d851fd405eb",
   "metadata": {},
   "outputs": [
    {
     "data": {
      "text/plain": [
       "array([13,  4, 26, 39, 51])"
      ]
     },
     "execution_count": 34,
     "metadata": {},
     "output_type": "execute_result"
    }
   ],
   "source": [
    "n13 = n8 + n9\n",
    "n13"
   ]
  },
  {
   "cell_type": "code",
   "execution_count": 36,
   "id": "7b0c9957-1ad6-4415-b4f7-3bbbd6e5f2d1",
   "metadata": {},
   "outputs": [
    {
     "data": {
      "text/plain": [
       "array([-11,   0, -20, -29, -39])"
      ]
     },
     "execution_count": 36,
     "metadata": {},
     "output_type": "execute_result"
    }
   ],
   "source": [
    "n14 = n8 - n9\n",
    "n14"
   ]
  },
  {
   "cell_type": "code",
   "execution_count": 38,
   "id": "d215c9b1-7a9f-4ee7-9e1f-b41f0c7b229b",
   "metadata": {},
   "outputs": [
    {
     "data": {
      "text/plain": [
       "array([ 12,   4,  69, 170, 270])"
      ]
     },
     "execution_count": 38,
     "metadata": {},
     "output_type": "execute_result"
    }
   ],
   "source": [
    "n15 = n8 * n9\n",
    "n15"
   ]
  },
  {
   "cell_type": "code",
   "execution_count": 40,
   "id": "e257a1af-29ea-420d-8721-e80cfc97fcc1",
   "metadata": {},
   "outputs": [
    {
     "data": {
      "text/plain": [
       "array([12.        ,  1.        ,  7.66666667,  6.8       ,  7.5       ])"
      ]
     },
     "execution_count": 40,
     "metadata": {},
     "output_type": "execute_result"
    }
   ],
   "source": [
    "n16 = n9 / n8\n",
    "n16"
   ]
  },
  {
   "cell_type": "code",
   "execution_count": 43,
   "id": "27c3208e-840c-4064-a4f4-cf8e50000a0b",
   "metadata": {},
   "outputs": [
    {
     "data": {
      "text/plain": [
       "array([13,  4, 26, 39, 51])"
      ]
     },
     "execution_count": 43,
     "metadata": {},
     "output_type": "execute_result"
    }
   ],
   "source": [
    "np.sum([n8,n9],axis = 0)  #addition along column"
   ]
  },
  {
   "cell_type": "code",
   "execution_count": 44,
   "id": "3c472e34-fa29-4497-b552-9d8618f4aaaf",
   "metadata": {},
   "outputs": [
    {
     "data": {
      "text/plain": [
       "array([ 17, 116])"
      ]
     },
     "execution_count": 44,
     "metadata": {},
     "output_type": "execute_result"
    }
   ],
   "source": [
    "np.sum([n8,n9],axis = 1)  #addition along row"
   ]
  },
  {
   "cell_type": "code",
   "execution_count": 47,
   "id": "ac5385d8-25e9-4ed3-8283-fdeb1ea45b1c",
   "metadata": {},
   "outputs": [
    {
     "data": {
      "text/plain": [
       "array([3, 4, 5, 6])"
      ]
     },
     "execution_count": 47,
     "metadata": {},
     "output_type": "execute_result"
    }
   ],
   "source": [
    "nn = np.array([1,2,3,4])\n",
    "nn\n",
    "#addition\n",
    "nn = nn + 2\n",
    "nn"
   ]
  },
  {
   "cell_type": "code",
   "execution_count": 48,
   "id": "fb79e373-befa-488d-8483-126bf13cbdc7",
   "metadata": {},
   "outputs": [
    {
     "data": {
      "text/plain": [
       "array([1, 2, 3, 4])"
      ]
     },
     "execution_count": 48,
     "metadata": {},
     "output_type": "execute_result"
    }
   ],
   "source": [
    "#substraction\n",
    "nn = nn - 2\n",
    "nn"
   ]
  },
  {
   "cell_type": "code",
   "execution_count": 49,
   "id": "abf8642a-5943-41b4-91ff-9d234ae79cdf",
   "metadata": {},
   "outputs": [
    {
     "data": {
      "text/plain": [
       "array([2, 4, 6, 8])"
      ]
     },
     "execution_count": 49,
     "metadata": {},
     "output_type": "execute_result"
    }
   ],
   "source": [
    "#multiplication\n",
    "nn = nn * 2\n",
    "nn"
   ]
  },
  {
   "cell_type": "code",
   "execution_count": 51,
   "id": "b5b21d5f-86ce-443f-bc70-8e3d38ba5a45",
   "metadata": {},
   "outputs": [
    {
     "data": {
      "text/plain": [
       "array([0.5, 1. , 1.5, 2. ])"
      ]
     },
     "execution_count": 51,
     "metadata": {},
     "output_type": "execute_result"
    }
   ],
   "source": [
    "#Divide\n",
    "nn = nn / 2\n",
    "nn"
   ]
  },
  {
   "cell_type": "code",
   "execution_count": 52,
   "id": "9df557f2-aabd-4066-90f4-c77ff75f7d28",
   "metadata": {},
   "outputs": [
    {
     "data": {
      "text/plain": [
       "1.25"
      ]
     },
     "execution_count": 52,
     "metadata": {},
     "output_type": "execute_result"
    }
   ],
   "source": [
    "#mean \n",
    "\n",
    "np.mean(nn)"
   ]
  },
  {
   "cell_type": "code",
   "execution_count": 53,
   "id": "031060cd-d81d-4462-a0f4-c2fcf868dccd",
   "metadata": {},
   "outputs": [
    {
     "data": {
      "text/plain": [
       "1.25"
      ]
     },
     "execution_count": 53,
     "metadata": {},
     "output_type": "execute_result"
    }
   ],
   "source": [
    "#median \n",
    "np.median(nn)"
   ]
  },
  {
   "cell_type": "code",
   "execution_count": 55,
   "id": "05f67756-3b5a-4bd2-a73a-9ba400380817",
   "metadata": {},
   "outputs": [
    {
     "data": {
      "text/plain": [
       "0.5590169943749475"
      ]
     },
     "execution_count": 55,
     "metadata": {},
     "output_type": "execute_result"
    }
   ],
   "source": [
    "#standard deviation\n",
    "np.std(nn)"
   ]
  },
  {
   "cell_type": "code",
   "execution_count": 56,
   "id": "54c18887-be77-4c8d-8425-bc31fdd30daf",
   "metadata": {},
   "outputs": [
    {
     "data": {
      "text/plain": [
       "array([[1, 2, 3],\n",
       "       [4, 5, 6],\n",
       "       [7, 8, 9]])"
      ]
     },
     "execution_count": 56,
     "metadata": {},
     "output_type": "execute_result"
    }
   ],
   "source": [
    "#numpy matrix\n",
    "\n",
    "na = np.array([[1,2,3],[4,5,6],[7,8,9]])\n",
    "na"
   ]
  },
  {
   "cell_type": "code",
   "execution_count": 61,
   "id": "56aa63c5-1b50-46da-b785-c57a9bbbf7f3",
   "metadata": {},
   "outputs": [
    {
     "data": {
      "text/plain": [
       "array([[7, 8, 9]])"
      ]
     },
     "execution_count": 61,
     "metadata": {},
     "output_type": "execute_result"
    }
   ],
   "source": [
    "na[-1:]"
   ]
  },
  {
   "cell_type": "code",
   "execution_count": 58,
   "id": "1fe17863-b373-42ea-9157-b9eb354cd228",
   "metadata": {},
   "outputs": [
    {
     "data": {
      "text/plain": [
       "array([[4, 5, 6],\n",
       "       [7, 8, 9]])"
      ]
     },
     "execution_count": 58,
     "metadata": {},
     "output_type": "execute_result"
    }
   ],
   "source": [
    "na[1:]"
   ]
  },
  {
   "cell_type": "code",
   "execution_count": 62,
   "id": "d156a5ce-7ad5-4a62-a34c-95f8e1a8e8ba",
   "metadata": {},
   "outputs": [
    {
     "data": {
      "text/plain": [
       "array([2, 5, 8])"
      ]
     },
     "execution_count": 62,
     "metadata": {},
     "output_type": "execute_result"
    }
   ],
   "source": [
    "na[:,1]"
   ]
  },
  {
   "cell_type": "code",
   "execution_count": 63,
   "id": "56881653-0289-4f0d-aee8-aa8e9864a16b",
   "metadata": {},
   "outputs": [
    {
     "data": {
      "text/plain": [
       "array([[1, 4, 7],\n",
       "       [2, 5, 8],\n",
       "       [3, 6, 9]])"
      ]
     },
     "execution_count": 63,
     "metadata": {},
     "output_type": "execute_result"
    }
   ],
   "source": [
    "#numpy transpose\n",
    "na.transpose()"
   ]
  },
  {
   "cell_type": "code",
   "execution_count": 64,
   "id": "2383fb69-f797-437d-899b-06cd47cf2749",
   "metadata": {},
   "outputs": [
    {
     "data": {
      "text/plain": [
       "array([[11, 21, 31],\n",
       "       [41, 51, 61],\n",
       "       [71, 81, 91]])"
      ]
     },
     "execution_count": 64,
     "metadata": {},
     "output_type": "execute_result"
    }
   ],
   "source": [
    "ba = np.array([[11,21,31],[41,51,61],[71,81,91]])\n",
    "ba"
   ]
  },
  {
   "cell_type": "code",
   "execution_count": 65,
   "id": "ff108064-58a1-4cb9-bc19-1eee7a4dedb9",
   "metadata": {},
   "outputs": [
    {
     "data": {
      "text/plain": [
       "array([[ 306,  366,  426],\n",
       "       [ 675,  825,  975],\n",
       "       [1044, 1284, 1524]])"
      ]
     },
     "execution_count": 65,
     "metadata": {},
     "output_type": "execute_result"
    }
   ],
   "source": [
    "#matrix multiplication\n",
    "na.dot(ba)"
   ]
  },
  {
   "cell_type": "code",
   "execution_count": 66,
   "id": "8abbdd58-28ff-45dc-ac80-27a535706a23",
   "metadata": {},
   "outputs": [
    {
     "data": {
      "text/plain": [
       "array([[ 30,  36,  42],\n",
       "       [ 66,  81,  96],\n",
       "       [102, 126, 150]])"
      ]
     },
     "execution_count": 66,
     "metadata": {},
     "output_type": "execute_result"
    }
   ],
   "source": [
    "na.dot(na)"
   ]
  },
  {
   "cell_type": "code",
   "execution_count": 67,
   "id": "4a4b06b9-1c79-48c5-a24e-1d6cffedb5da",
   "metadata": {},
   "outputs": [
    {
     "data": {
      "text/plain": [
       "array([[ 312,  375,  438],\n",
       "       [ 672,  825,  978],\n",
       "       [1032, 1275, 1518]])"
      ]
     },
     "execution_count": 67,
     "metadata": {},
     "output_type": "execute_result"
    }
   ],
   "source": [
    "ba.dot(na)"
   ]
  },
  {
   "cell_type": "code",
   "execution_count": 68,
   "id": "b7ead08c-95d2-44fa-896a-435315bb0ff1",
   "metadata": {},
   "outputs": [],
   "source": [
    "#save and load \n",
    "ns = np.array([1,2,3])\n",
    "np.save(\"new\",ns)"
   ]
  },
  {
   "cell_type": "code",
   "execution_count": 69,
   "id": "e44ba2b7-b2ee-4c09-aaaf-b60550b355e3",
   "metadata": {},
   "outputs": [
    {
     "data": {
      "text/plain": [
       "array([1, 2, 3])"
      ]
     },
     "execution_count": 69,
     "metadata": {},
     "output_type": "execute_result"
    }
   ],
   "source": [
    "nd = np.load(\"new.npy\")\n",
    "nd"
   ]
  },
  {
   "cell_type": "code",
   "execution_count": null,
   "id": "fea66cc6-0fbf-4470-a880-1667908623db",
   "metadata": {},
   "outputs": [],
   "source": []
  }
 ],
 "metadata": {
  "kernelspec": {
   "display_name": "Python 3 (ipykernel)",
   "language": "python",
   "name": "python3"
  },
  "language_info": {
   "codemirror_mode": {
    "name": "ipython",
    "version": 3
   },
   "file_extension": ".py",
   "mimetype": "text/x-python",
   "name": "python",
   "nbconvert_exporter": "python",
   "pygments_lexer": "ipython3",
   "version": "3.12.7"
  }
 },
 "nbformat": 4,
 "nbformat_minor": 5
}
